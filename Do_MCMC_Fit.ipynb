{
 "cells": [
  {
   "cell_type": "markdown",
   "metadata": {},
   "source": [
    "# MCMC fitting\n",
    "In this notebook, I will read in the RV data and perform the MCMC fit to find the mass-ratio.\n",
    "\n",
    "[for now, I am writing up how to do an SB2 fit. If that fails again, I will fall back to a partial fit using Stefano's parameters.]"
   ]
  },
  {
   "cell_type": "code",
   "execution_count": 2,
   "metadata": {
    "collapsed": false
   },
   "outputs": [],
   "source": [
    "import numpy as np\n",
    "import pandas as pd\n",
    "import MassRatio_Fitter\n",
    "import triangle\n",
    "import matplotlib.pyplot as plt\n",
    "\n",
    "%matplotlib inline"
   ]
  },
  {
   "cell_type": "code",
   "execution_count": 4,
   "metadata": {
    "collapsed": false
   },
   "outputs": [],
   "source": [
    "# Read in the austral rv fits\n",
    "rv1_data = pd.read_fwf('data/psi1draa_140p_28_37_ASW.dat', header=None)\n",
    "t1 = rv1_data[0].values\n",
    "rv1 = rv1_data[2].values / 1000. # Convert from m/s to km/s\n",
    "rv1_err = rv1_data[3].values / 1000.\n",
    "\n",
    "# Read in my measurements for the companion RV\n",
    "t2, _, _, rv2, rv2_err = np.loadtxt('data/rv_data.txt')\n",
    "good = ~np.isnan(rv2)\n",
    "t2 = t2[good]\n",
    "rv2 = rv2[good]\n",
    "rv2_err = rv2_err[good]"
   ]
  },
  {
   "cell_type": "code",
   "execution_count": null,
   "metadata": {
    "collapsed": true
   },
   "outputs": [],
   "source": [
    "# Do the fit\n",
    "sampler = MassRatio_Fitter.full_sb2_fit(t1, rv1, rv1_err, t2, rv2, rv2_err)"
   ]
  },
  {
   "cell_type": "code",
   "execution_count": null,
   "metadata": {
    "collapsed": true
   },
   "outputs": [],
   "source": []
  }
 ],
 "metadata": {
  "kernelspec": {
   "display_name": "Python 2",
   "language": "python",
   "name": "python2"
  },
  "language_info": {
   "codemirror_mode": {
    "name": "ipython",
    "version": 2
   },
   "file_extension": ".py",
   "mimetype": "text/x-python",
   "name": "python",
   "nbconvert_exporter": "python",
   "pygments_lexer": "ipython2",
   "version": "2.7.10"
  }
 },
 "nbformat": 4,
 "nbformat_minor": 0
}
