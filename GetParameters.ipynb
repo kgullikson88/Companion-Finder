{
 "cells": [
  {
   "cell_type": "markdown",
   "metadata": {},
   "source": [
    "# Get the parameters from MCMC runs"
   ]
  },
  {
   "cell_type": "code",
   "execution_count": 1,
   "metadata": {
    "collapsed": false
   },
   "outputs": [],
   "source": [
    "import numpy as np\n",
    "import pandas as pd\n",
    "import matplotlib.pyplot as plt\n",
    "import os\n",
    "from isochrones.dartmouth import Dartmouth_Isochrone # Get using pip install isochrones\n",
    "from isochrones import StarModel\n",
    "from astropy import units as u, constants\n",
    "G = constants.G\n",
    "\n",
    "%matplotlib inline"
   ]
  },
  {
   "cell_type": "code",
   "execution_count": 10,
   "metadata": {
    "collapsed": true
   },
   "outputs": [],
   "source": [
    "# Read in MCMC samples. You can make this with the Do_MCMC_Fit notebook\n",
    "mcmc_fname = 'data/SB2_samples.npy'\n",
    "samples = np.load(mcmc_fname)"
   ]
  },
  {
   "cell_type": "code",
   "execution_count": 3,
   "metadata": {
    "collapsed": false
   },
   "outputs": [],
   "source": [
    "# Use Dartmouth isochrones to get the primary star mass from its parameters (from Simbad and Brugameyer et al (in prep) )\n",
    "dar = Dartmouth_Isochrone()\n",
    "Teff = (6546, 42)\n",
    "logg = (3.9, 0.11)\n",
    "feh = (-0.1, 0.05)\n",
    "J = (3.803, 0.264)\n",
    "H = (3.648, 0.248)\n",
    "K = (3.502, 0.362)\n",
    "model = StarModel(dar, Teff=Teff, logg=logg, feh=feh, J=J, H=H, K=K)\n",
    "model.fit()  # This will take a while, especially if using emcee instead of MultiNest"
   ]
  },
  {
   "cell_type": "markdown",
   "metadata": {},
   "source": [
    "Now that we have everything read in and calculated, we can start deriving new quantities. We will first measure the mass ratio (q) from the semiamplitudes K1 and K2. For all variables, the values I quote come from percentiles of the samples. For large numbers, that is the same as doing\n",
    "\n",
    "$v = \\int_{-\\infty }^{y} P(x)dx$\n",
    "\n",
    "where y = 0.5 for the central value, and y=0.16 and 0.84 give the $1\\sigma$ confidence intervals.\n",
    "\n",
    "Once we have those measured, we need to get all the samples the same size so that we can do algebra to them and derive things like the companion mass, companion temperature, inclination, and semi-major axis."
   ]
  },
  {
   "cell_type": "code",
   "execution_count": 11,
   "metadata": {
    "collapsed": false
   },
   "outputs": [],
   "source": [
    "# Get percentiles of the stuff in samples\n",
    "K1_samples = samples[:, 0]\n",
    "K2_samples = samples[:, 1]\n",
    "q_samples = K1_samples / K2_samples"
   ]
  },
  {
   "cell_type": "code",
   "execution_count": 12,
   "metadata": {
    "collapsed": true
   },
   "outputs": [],
   "source": [
    "# Make numpy arrays with all the parameters I care about. Make sure they are the same length!\n",
    "idx = np.random.randint(0, samples.shape[0], model.samples.shape[0])\n",
    "q = q_samples[idx]\n",
    "M1 = model.samples['mass'].values * u.M_sun\n",
    "P = samples[idx, 2] * u.day\n",
    "K1 = K1_samples[idx] * u.km/u.s"
   ]
  },
  {
   "cell_type": "code",
   "execution_count": 13,
   "metadata": {
    "collapsed": false
   },
   "outputs": [
    {
     "name": "stdout",
     "output_type": "stream",
     "text": [
      "M2 = 0.696 +0.063 / -0.068 Msun\n"
     ]
    }
   ],
   "source": [
    "# Calculate the companion mass\n",
    "M2 = M1*q\n",
    "l, m, h = np.percentile(M2, [16, 50, 84])\n",
    "print ('M2 = {:.3f} +{:.3f} / -{:.3f} Msun'.format(m, h-m, m-l))"
   ]
  },
  {
   "cell_type": "code",
   "execution_count": 14,
   "metadata": {
    "collapsed": false
   },
   "outputs": [
    {
     "name": "stdout",
     "output_type": "stream",
     "text": [
      "T2 = 4405 +279 / -258 Kelvin\n"
     ]
    }
   ],
   "source": [
    "# Use the dartmouth isochrones to get samples of the companion temperature\n",
    "T2 = dar.Teff(M2, model.samples.age, model.samples.feh)\n",
    "l, m, h = np.percentile(T2, [16, 50, 84])\n",
    "print ('T2 = {:.0f} +{:.0f} / -{:.0f} Kelvin'.format(m, h-m, m-l))"
   ]
  },
  {
   "cell_type": "code",
   "execution_count": 15,
   "metadata": {
    "collapsed": false
   },
   "outputs": [
    {
     "name": "stdout",
     "output_type": "stream",
     "text": [
      "i = 32 +2 / -1 degrees\n"
     ]
    }
   ],
   "source": [
    "# Get the inclination\n",
    "sin3i = P/(2*np.pi*G) * K1**3 / (q*M1)\n",
    "sini = (sin3i**(1./3.)).decompose()\n",
    "i = np.arcsin(sini).to(u.degree)\n",
    "l, m, h = np.percentile(i, [16, 50, 84])\n",
    "print ('i = {:.0f} +{:.0f} / -{:.0f} degrees'.format(m, h-m, m-l))"
   ]
  },
  {
   "cell_type": "code",
   "execution_count": 16,
   "metadata": {
    "collapsed": false
   },
   "outputs": [
    {
     "name": "stdout",
     "output_type": "stream",
     "text": [
      "a = 9.6 +0.5 / -0.4 AU\n"
     ]
    }
   ],
   "source": [
    "# Get the semi-major axis\n",
    "a3 = G*M1*(1+q)*P**2 / (4*np.pi**2)\n",
    "a = (a3**(1./3.)).to(u.AU)\n",
    "l, m, h = np.percentile(a, [16, 50, 84])\n",
    "print ('a = {:.1f} +{:.1f} / -{:.1f} AU'.format(m, h-m, m-l))"
   ]
  },
  {
   "cell_type": "code",
   "execution_count": null,
   "metadata": {
    "collapsed": true
   },
   "outputs": [],
   "source": []
  }
 ],
 "metadata": {
  "kernelspec": {
   "display_name": "Python 2",
   "language": "python",
   "name": "python2"
  },
  "language_info": {
   "codemirror_mode": {
    "name": "ipython",
    "version": 2
   },
   "file_extension": ".py",
   "mimetype": "text/x-python",
   "name": "python",
   "nbconvert_exporter": "python",
   "pygments_lexer": "ipython2",
   "version": "2.7.10"
  }
 },
 "nbformat": 4,
 "nbformat_minor": 0
}
