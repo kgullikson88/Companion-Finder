{
 "cells": [
  {
   "cell_type": "markdown",
   "metadata": {},
   "source": [
    "# Get the parameters from MCMC runs"
   ]
  },
  {
   "cell_type": "code",
   "execution_count": 13,
   "metadata": {
    "collapsed": false
   },
   "outputs": [],
   "source": [
    "import numpy as np\n",
    "import pandas as pd\n",
    "import matplotlib.pyplot as plt\n",
    "import os\n",
    "from isochrones.dartmouth import Dartmouth_Isochrone # Get using pip install isochrones\n",
    "from isochrones import StarModel\n",
    "from astropy import units as u, constants\n",
    "G = constants.G\n",
    "\n",
    "%matplotlib inline"
   ]
  },
  {
   "cell_type": "code",
   "execution_count": 3,
   "metadata": {
    "collapsed": true
   },
   "outputs": [],
   "source": [
    "# Read in MCMC samples for the mass-ratio, velocity shift, and uncertainty scale factor\n",
    "# Note: You will need to run the MCMC fit yourself and change the filename!\n",
    "mcmc_fname = '../PsiDraA/partial_fit_samples_all.npy'\n",
    "samples = np.load(mcmc_fname)"
   ]
  },
  {
   "cell_type": "code",
   "execution_count": 4,
   "metadata": {
    "collapsed": true
   },
   "outputs": [],
   "source": [
    "# Read in the primary star fit MCMC samples\n",
    "prim_mcmc_fname = 'data/psi1draA_samples.txt'\n",
    "prim_chain = pd.read_fwf(prim_mcmc_fname)"
   ]
  },
  {
   "cell_type": "code",
   "execution_count": 7,
   "metadata": {
    "collapsed": false
   },
   "outputs": [
    {
     "name": "stderr",
     "output_type": "stream",
     "text": [
      "WARNING:root:MultiNest not available; use_emcee being set to True\n"
     ]
    }
   ],
   "source": [
    "# Use Dartmouth isochrones to get the primary star mass from its parameters (from Simbad and Brugameyer et al (in prep) )\n",
    "dar = Dartmouth_Isochrone()\n",
    "Teff = (6546, 42)\n",
    "logg = (3.9, 0.11)\n",
    "feh = (-0.1, 0.05)\n",
    "J = (3.803, 0.264)\n",
    "H = (3.648, 0.248)\n",
    "K = (3.502, 0.362)\n",
    "model = StarModel(dar, Teff=Teff, logg=logg, feh=feh, J=J, H=H, K=K)\n",
    "model.fit()  # This will take a while, especially if using emcee instead of MultiNest"
   ]
  },
  {
   "cell_type": "markdown",
   "metadata": {},
   "source": [
    "Now that we have everything read in and calculated, we can start deriving new quantities. We will first measure the mass ratio (q), velocity shift ($\\Delta v$), and uncertainty scale factor f, which are all in the 'samples' variable. For all variables, the values I quote come from percentiles of the samples. For large numbers, that is the same as doing\n",
    "\n",
    "$v = \\int_{-\\infty }^{y} P(x)dx$\n",
    "\n",
    "where y = 0.5 for the central value, and y=0.16 and 0.84 give the $1\\sigma$ confidence intervals.\n",
    "\n",
    "Once we have those measured, we need to get all the samples the same size so that we can do algebra to them and derive things like the companion mass, companion temperature, inclination, and semi-major axis."
   ]
  },
  {
   "cell_type": "code",
   "execution_count": 12,
   "metadata": {
    "collapsed": false
   },
   "outputs": [
    {
     "name": "stdout",
     "output_type": "stream",
     "text": [
      "Mass ratio = 0.468 +0.009 / -0.009\n",
      "Delta-v = -5.272 +0.547 / -0.371\n",
      "f = 0.167 +0.019 / -0.016\n"
     ]
    }
   ],
   "source": [
    "# Get percentiles of the stuff in samples\n",
    "l, m, h = np.percentile(samples, [16, 50, 84], axis=0)\n",
    "print('Mass ratio = {:.3f} +{:.3f} / -{:.3f}'.format(m[0], h[0]-m[0], m[0]-l[0]))\n",
    "print('Delta-v = {:.3f} +{:.3f} / -{:.3f}'.format(m[1], h[1]-m[1], m[1]-l[1]))\n",
    "print('f = {:.3f} +{:.3f} / -{:.3f}'.format(np.exp(m[2]/2.), np.exp(h[2]/2.)-np.exp(m[2]/2.), np.exp(m[2]/2.)-np.exp(l[2]/2.)))"
   ]
  },
  {
   "cell_type": "code",
   "execution_count": 14,
   "metadata": {
    "collapsed": true
   },
   "outputs": [],
   "source": [
    "# Make numpy arrays with all the parameters I care about. Make sure they are the same length!\n",
    "idx = np.random.randint(0, samples.shape[0], model.samples.shape[0])\n",
    "pidx = np.random.randint(0, prim_chain.shape[0], model.samples.shape[0])\n",
    "q = samples[idx, 0]\n",
    "M1 = model.samples['mass'].values * u.M_sun\n",
    "P = prim_chain.period[pidx].values * u.day\n",
    "K1 = prim_chain['k'][pidx].values * u.m/u.s"
   ]
  },
  {
   "cell_type": "code",
   "execution_count": 18,
   "metadata": {
    "collapsed": false
   },
   "outputs": [
    {
     "name": "stdout",
     "output_type": "stream",
     "text": [
      "M2 = 0.642 +0.059 / -0.038 Msun\n"
     ]
    }
   ],
   "source": [
    "# Calculate the companion mass\n",
    "M2 = M1*q\n",
    "l, m, h = np.percentile(M2, [16, 50, 84])\n",
    "print ('M2 = {:.3f} +{:.3f} / -{:.3f} Msun'.format(m, h-m, m-l))"
   ]
  },
  {
   "cell_type": "code",
   "execution_count": 19,
   "metadata": {
    "collapsed": false
   },
   "outputs": [
    {
     "name": "stdout",
     "output_type": "stream",
     "text": [
      "T2 = 4205 +215 / -145 Kelvin\n"
     ]
    }
   ],
   "source": [
    "# Use the dartmouth isochrones to get samples of the companion temperature\n",
    "T2 = dar.Teff(M2, model.samples.age, model.samples.feh)\n",
    "l, m, h = np.percentile(T2, [16, 50, 84])\n",
    "print ('T2 = {:.0f} +{:.0f} / -{:.0f} Kelvin'.format(m, h-m, m-l))"
   ]
  },
  {
   "cell_type": "code",
   "execution_count": 20,
   "metadata": {
    "collapsed": false
   },
   "outputs": [
    {
     "name": "stdout",
     "output_type": "stream",
     "text": [
      "i = 33 +2 / -1 degrees\n"
     ]
    }
   ],
   "source": [
    "# Get the inclination\n",
    "sin3i = P/(2*np.pi*G) * K1**3 / (q*M1)\n",
    "sini = (sin3i**(1./3.)).decompose()\n",
    "i = np.arcsin(sini).to(u.degree)\n",
    "l, m, h = np.percentile(i, [16, 50, 84])\n",
    "print ('i = {:.0f} +{:.0f} / -{:.0f} degrees'.format(m, h-m, m-l))"
   ]
  },
  {
   "cell_type": "code",
   "execution_count": 23,
   "metadata": {
    "collapsed": false
   },
   "outputs": [
    {
     "name": "stdout",
     "output_type": "stream",
     "text": [
      "a = 9.4 +0.6 / -0.4 AU\n"
     ]
    }
   ],
   "source": [
    "# Get the semi-major axis\n",
    "a3 = G*M1*(1+q)*P**2 / (4*np.pi**2)\n",
    "a = (a3**(1./3.)).to(u.AU)\n",
    "l, m, h = np.percentile(a, [16, 50, 84])\n",
    "print ('a = {:.1f} +{:.1f} / -{:.1f} AU'.format(m, h-m, m-l))"
   ]
  },
  {
   "cell_type": "code",
   "execution_count": null,
   "metadata": {
    "collapsed": true
   },
   "outputs": [],
   "source": []
  }
 ],
 "metadata": {
  "kernelspec": {
   "display_name": "Python 2",
   "language": "python",
   "name": "python2"
  },
  "language_info": {
   "codemirror_mode": {
    "name": "ipython",
    "version": 2
   },
   "file_extension": ".py",
   "mimetype": "text/x-python",
   "name": "python",
   "nbconvert_exporter": "python",
   "pygments_lexer": "ipython2",
   "version": "2.7.10"
  }
 },
 "nbformat": 4,
 "nbformat_minor": 0
}
